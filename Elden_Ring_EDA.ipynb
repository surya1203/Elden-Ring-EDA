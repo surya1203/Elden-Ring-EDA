{
  "nbformat": 4,
  "nbformat_minor": 0,
  "metadata": {
    "colab": {
      "provenance": []
    },
    "kernelspec": {
      "name": "python3",
      "display_name": "Python 3"
    },
    "language_info": {
      "name": "python"
    }
  },
  "cells": [
    {
      "cell_type": "markdown",
      "source": [
        "# Elden Ring Boss EDA\n",
        "The objective of this project is to simply do some basic Exploratory Data Analysis of Elden Ring. ELDEN RING is a new fantasy world created by Hidetaka Miyazaki and George R. R. Martin. Players will unravel the mysteries of its power while encountering diverse adversaries, characters with unique motivations, and fearsome creatures. The game offers vast landscapes and complex dungeons to explore seamlessly, either on foot or horseback, alone or with other players. It introduces refined action-RPG gameplay where players can create their own character, experiment with weapons and magical abilities, and choose different approaches to exploration and combat."
      ],
      "metadata": {
        "id": "09HzQP9iP3fW"
      }
    },
    {
      "cell_type": "markdown",
      "source": [
        "  ## Import Libraries"
      ],
      "metadata": {
        "id": "mjU2rna3PxqO"
      }
    },
    {
      "cell_type": "code",
      "execution_count": null,
      "metadata": {
        "id": "tGSbniFEGUYj"
      },
      "outputs": [],
      "source": [
        "import pandas as pd\n",
        "import matplotlib.pyplot as plt\n",
        "import seaborn as sns\n",
        "import regex as re\n",
        "import numpy as np"
      ]
    },
    {
      "cell_type": "markdown",
      "source": [
        "# Bosses\n",
        "They are the staple of FromSoftware's RPG games, including Elden Ring. These bosses are formidable adversaries with unique designs, abilities, and backstories. Each boss presents a significant challenge that requires careful observation, strategic thinking, and precise execution to overcome. From towering creatures to agile warriors, the bosses in \"Elden Ring\" offer thrilling and intense battles that test the player's skills and resolve. Defeating these bosses rewards players with valuable loot, progression, and a sense of accomplishment.\n",
        "\n",
        "We shall start by looking at the different regions in the game and how many bosses there are in each region."
      ],
      "metadata": {
        "id": "2mDD_N05RtNF"
      }
    },
    {
      "cell_type": "markdown",
      "source": [
        "## Display the boss data"
      ],
      "metadata": {
        "id": "d6LdD08nSM4e"
      }
    },
    {
      "cell_type": "code",
      "source": [
        "bosses = pd.read_csv('bosses.csv')\n",
        "bosses"
      ],
      "metadata": {
        "colab": {
          "base_uri": "https://localhost:8080/",
          "height": 814
        },
        "id": "vl0t5uuCG2c3",
        "outputId": "7596eb08-61b5-4ef0-d3c4-1a47ad2f774f"
      },
      "execution_count": null,
      "outputs": [
        {
          "output_type": "execute_result",
          "data": {
            "text/plain": [
              "                                 id                            name  \\\n",
              "0     17f695abef9l0i1ujzrup5y0z7rw6                Abductor Virgins   \n",
              "1    17f69b4ba0al0i1uk6s98t1nbtxunt  Alecto, Black Knife Ringleader   \n",
              "2    17f69d0313fl0i1uk8pokynv71bkz8   Alecto Black Knife Ringleader   \n",
              "3    17f69b85929l0i1ukc4l2up7yp9v0i                  Alabaster Lord   \n",
              "4     17f69a3ca37l0i1ukd1lq14ctafbk             Adan, Thief Of Fire   \n",
              "..                              ...                             ...   \n",
              "101  17f6968dcfal0i1v1y8dnaop27j5qg                   Tibia Mariner   \n",
              "102  17f69621aadl0i1v2f5fkvee5z6719           Ulcerated Tree Spirit   \n",
              "103  17f697500cal0i1v2hh14qewvbrwrn                Valiant Gargoyle   \n",
              "104  17f696a35c3l0i1v2k2s30hlu2y50j                        Wormface   \n",
              "105  17f6992d42bl0i1v2mmti9t0qkl5yj                   Tree Sentinel   \n",
              "\n",
              "                                                 image                region  \\\n",
              "0                                                  NaN          Mount Gelmir   \n",
              "1    https://eldenring.fanapis.com/images/bosses/17...  Liurnia of the Lakes   \n",
              "2    https://eldenring.fanapis.com/images/bosses/17...  Liurnia of the Lakes   \n",
              "3    https://eldenring.fanapis.com/images/bosses/17...  Liurnia of the Lakes   \n",
              "4    https://eldenring.fanapis.com/images/bosses/17...  Liurnia of the Lakes   \n",
              "..                                                 ...                   ...   \n",
              "101  https://eldenring.fanapis.com/images/bosses/17...  Liurnia of the Lakes   \n",
              "102  https://eldenring.fanapis.com/images/bosses/17...          Mount Gelmir   \n",
              "103  https://eldenring.fanapis.com/images/bosses/17...              Limgrave   \n",
              "104  https://eldenring.fanapis.com/images/bosses/17...         Altus Plateau   \n",
              "105  https://eldenring.fanapis.com/images/bosses/17...              Limgrave   \n",
              "\n",
              "                                           description  \\\n",
              "0    Deadly mechanical constructs who wield massive...   \n",
              "1    Remarkably agile and aggressive warrior. Dange...   \n",
              "2    Remarkably agile and aggressive warrior. Dange...   \n",
              "3    An Evergaol prisoner wielding a vicious sword ...   \n",
              "4    An evergaol prisoner and former battle mage, A...   \n",
              "..                                                 ...   \n",
              "101  Tibia Mariner is a spectral sailor capable of ...   \n",
              "102  A corrupted and deformed tree that lurks in Mt...   \n",
              "103  Just like the wielder, the missing parts have ...   \n",
              "104  A ghastly blood rotted tree with the face of a...   \n",
              "105  The heavily armored and highly decorated senti...   \n",
              "\n",
              "                                              location  \\\n",
              "0                                        Volcano Manor   \n",
              "1          Ringleader's Evergoal, Liurnia of the Lakes   \n",
              "2                                             Limgrave   \n",
              "3           Royal Grave Evergaol, Liurnia of the Lakes   \n",
              "4                                Malefactor's Evergaol   \n",
              "..                                                 ...   \n",
              "101  Summonwater Village, Liurnia of The Lakes, Wyn...   \n",
              "102                                         Mt. Gelmir   \n",
              "103                                    Siofra Aqueduct   \n",
              "104                      Minor Erdtree (Altus Plateau)   \n",
              "105                                      Limgrave road   \n",
              "\n",
              "                                                 drops healthPoints  \n",
              "0           ['10.000 Runes', \"Inquisitor's Girandole\"]          ???  \n",
              "1                 ['8.000 Runes', 'Black Knife Tiche']          ???  \n",
              "2                      ['80.000 Runes', 'Other Drops']          ???  \n",
              "3                         ['3.600 Runes', 'Meteorite']          ???  \n",
              "4             ['3.800 Runes', 'Flame of the Fell God']         2200  \n",
              "..                                                 ...          ...  \n",
              "101  ['2400 Runes', 'Deathroot', 'Skeletal Militiam...        ≈2750  \n",
              "102  ['18,000 Runes', 'Leaden Hardtear', 'Cerulean ...      ≈17,428  \n",
              "103  ['30000 Runes', '32000 Runes', \"Gargoyle's Gre...       ≈9,120  \n",
              "104  ['10000 Runes', 'Crimsonspill Crystal Tear', '...          ???  \n",
              "105  ['3200 Runes', '16000 Runes (NG+1)', 'Golden H...        ≈1954  \n",
              "\n",
              "[106 rows x 8 columns]"
            ],
            "text/html": [
              "\n",
              "  <div id=\"df-449b0eee-2550-4250-8997-6ea572e6eeda\">\n",
              "    <div class=\"colab-df-container\">\n",
              "      <div>\n",
              "<style scoped>\n",
              "    .dataframe tbody tr th:only-of-type {\n",
              "        vertical-align: middle;\n",
              "    }\n",
              "\n",
              "    .dataframe tbody tr th {\n",
              "        vertical-align: top;\n",
              "    }\n",
              "\n",
              "    .dataframe thead th {\n",
              "        text-align: right;\n",
              "    }\n",
              "</style>\n",
              "<table border=\"1\" class=\"dataframe\">\n",
              "  <thead>\n",
              "    <tr style=\"text-align: right;\">\n",
              "      <th></th>\n",
              "      <th>id</th>\n",
              "      <th>name</th>\n",
              "      <th>image</th>\n",
              "      <th>region</th>\n",
              "      <th>description</th>\n",
              "      <th>location</th>\n",
              "      <th>drops</th>\n",
              "      <th>healthPoints</th>\n",
              "    </tr>\n",
              "  </thead>\n",
              "  <tbody>\n",
              "    <tr>\n",
              "      <th>0</th>\n",
              "      <td>17f695abef9l0i1ujzrup5y0z7rw6</td>\n",
              "      <td>Abductor Virgins</td>\n",
              "      <td>NaN</td>\n",
              "      <td>Mount Gelmir</td>\n",
              "      <td>Deadly mechanical constructs who wield massive...</td>\n",
              "      <td>Volcano Manor</td>\n",
              "      <td>['10.000 Runes', \"Inquisitor's Girandole\"]</td>\n",
              "      <td>???</td>\n",
              "    </tr>\n",
              "    <tr>\n",
              "      <th>1</th>\n",
              "      <td>17f69b4ba0al0i1uk6s98t1nbtxunt</td>\n",
              "      <td>Alecto, Black Knife Ringleader</td>\n",
              "      <td>https://eldenring.fanapis.com/images/bosses/17...</td>\n",
              "      <td>Liurnia of the Lakes</td>\n",
              "      <td>Remarkably agile and aggressive warrior. Dange...</td>\n",
              "      <td>Ringleader's Evergoal, Liurnia of the Lakes</td>\n",
              "      <td>['8.000 Runes', 'Black Knife Tiche']</td>\n",
              "      <td>???</td>\n",
              "    </tr>\n",
              "    <tr>\n",
              "      <th>2</th>\n",
              "      <td>17f69d0313fl0i1uk8pokynv71bkz8</td>\n",
              "      <td>Alecto Black Knife Ringleader</td>\n",
              "      <td>https://eldenring.fanapis.com/images/bosses/17...</td>\n",
              "      <td>Liurnia of the Lakes</td>\n",
              "      <td>Remarkably agile and aggressive warrior. Dange...</td>\n",
              "      <td>Limgrave</td>\n",
              "      <td>['80.000 Runes', 'Other Drops']</td>\n",
              "      <td>???</td>\n",
              "    </tr>\n",
              "    <tr>\n",
              "      <th>3</th>\n",
              "      <td>17f69b85929l0i1ukc4l2up7yp9v0i</td>\n",
              "      <td>Alabaster Lord</td>\n",
              "      <td>https://eldenring.fanapis.com/images/bosses/17...</td>\n",
              "      <td>Liurnia of the Lakes</td>\n",
              "      <td>An Evergaol prisoner wielding a vicious sword ...</td>\n",
              "      <td>Royal Grave Evergaol, Liurnia of the Lakes</td>\n",
              "      <td>['3.600 Runes', 'Meteorite']</td>\n",
              "      <td>???</td>\n",
              "    </tr>\n",
              "    <tr>\n",
              "      <th>4</th>\n",
              "      <td>17f69a3ca37l0i1ukd1lq14ctafbk</td>\n",
              "      <td>Adan, Thief Of Fire</td>\n",
              "      <td>https://eldenring.fanapis.com/images/bosses/17...</td>\n",
              "      <td>Liurnia of the Lakes</td>\n",
              "      <td>An evergaol prisoner and former battle mage, A...</td>\n",
              "      <td>Malefactor's Evergaol</td>\n",
              "      <td>['3.800 Runes', 'Flame of the Fell God']</td>\n",
              "      <td>2200</td>\n",
              "    </tr>\n",
              "    <tr>\n",
              "      <th>...</th>\n",
              "      <td>...</td>\n",
              "      <td>...</td>\n",
              "      <td>...</td>\n",
              "      <td>...</td>\n",
              "      <td>...</td>\n",
              "      <td>...</td>\n",
              "      <td>...</td>\n",
              "      <td>...</td>\n",
              "    </tr>\n",
              "    <tr>\n",
              "      <th>101</th>\n",
              "      <td>17f6968dcfal0i1v1y8dnaop27j5qg</td>\n",
              "      <td>Tibia Mariner</td>\n",
              "      <td>https://eldenring.fanapis.com/images/bosses/17...</td>\n",
              "      <td>Liurnia of the Lakes</td>\n",
              "      <td>Tibia Mariner is a spectral sailor capable of ...</td>\n",
              "      <td>Summonwater Village, Liurnia of The Lakes, Wyn...</td>\n",
              "      <td>['2400 Runes', 'Deathroot', 'Skeletal Militiam...</td>\n",
              "      <td>≈2750</td>\n",
              "    </tr>\n",
              "    <tr>\n",
              "      <th>102</th>\n",
              "      <td>17f69621aadl0i1v2f5fkvee5z6719</td>\n",
              "      <td>Ulcerated Tree Spirit</td>\n",
              "      <td>https://eldenring.fanapis.com/images/bosses/17...</td>\n",
              "      <td>Mount Gelmir</td>\n",
              "      <td>A corrupted and deformed tree that lurks in Mt...</td>\n",
              "      <td>Mt. Gelmir</td>\n",
              "      <td>['18,000 Runes', 'Leaden Hardtear', 'Cerulean ...</td>\n",
              "      <td>≈17,428</td>\n",
              "    </tr>\n",
              "    <tr>\n",
              "      <th>103</th>\n",
              "      <td>17f697500cal0i1v2hh14qewvbrwrn</td>\n",
              "      <td>Valiant Gargoyle</td>\n",
              "      <td>https://eldenring.fanapis.com/images/bosses/17...</td>\n",
              "      <td>Limgrave</td>\n",
              "      <td>Just like the wielder, the missing parts have ...</td>\n",
              "      <td>Siofra Aqueduct</td>\n",
              "      <td>['30000 Runes', '32000 Runes', \"Gargoyle's Gre...</td>\n",
              "      <td>≈9,120</td>\n",
              "    </tr>\n",
              "    <tr>\n",
              "      <th>104</th>\n",
              "      <td>17f696a35c3l0i1v2k2s30hlu2y50j</td>\n",
              "      <td>Wormface</td>\n",
              "      <td>https://eldenring.fanapis.com/images/bosses/17...</td>\n",
              "      <td>Altus Plateau</td>\n",
              "      <td>A ghastly blood rotted tree with the face of a...</td>\n",
              "      <td>Minor Erdtree (Altus Plateau)</td>\n",
              "      <td>['10000 Runes', 'Crimsonspill Crystal Tear', '...</td>\n",
              "      <td>???</td>\n",
              "    </tr>\n",
              "    <tr>\n",
              "      <th>105</th>\n",
              "      <td>17f6992d42bl0i1v2mmti9t0qkl5yj</td>\n",
              "      <td>Tree Sentinel</td>\n",
              "      <td>https://eldenring.fanapis.com/images/bosses/17...</td>\n",
              "      <td>Limgrave</td>\n",
              "      <td>The heavily armored and highly decorated senti...</td>\n",
              "      <td>Limgrave road</td>\n",
              "      <td>['3200 Runes', '16000 Runes (NG+1)', 'Golden H...</td>\n",
              "      <td>≈1954</td>\n",
              "    </tr>\n",
              "  </tbody>\n",
              "</table>\n",
              "<p>106 rows × 8 columns</p>\n",
              "</div>\n",
              "      <button class=\"colab-df-convert\" onclick=\"convertToInteractive('df-449b0eee-2550-4250-8997-6ea572e6eeda')\"\n",
              "              title=\"Convert this dataframe to an interactive table.\"\n",
              "              style=\"display:none;\">\n",
              "        \n",
              "  <svg xmlns=\"http://www.w3.org/2000/svg\" height=\"24px\"viewBox=\"0 0 24 24\"\n",
              "       width=\"24px\">\n",
              "    <path d=\"M0 0h24v24H0V0z\" fill=\"none\"/>\n",
              "    <path d=\"M18.56 5.44l.94 2.06.94-2.06 2.06-.94-2.06-.94-.94-2.06-.94 2.06-2.06.94zm-11 1L8.5 8.5l.94-2.06 2.06-.94-2.06-.94L8.5 2.5l-.94 2.06-2.06.94zm10 10l.94 2.06.94-2.06 2.06-.94-2.06-.94-.94-2.06-.94 2.06-2.06.94z\"/><path d=\"M17.41 7.96l-1.37-1.37c-.4-.4-.92-.59-1.43-.59-.52 0-1.04.2-1.43.59L10.3 9.45l-7.72 7.72c-.78.78-.78 2.05 0 2.83L4 21.41c.39.39.9.59 1.41.59.51 0 1.02-.2 1.41-.59l7.78-7.78 2.81-2.81c.8-.78.8-2.07 0-2.86zM5.41 20L4 18.59l7.72-7.72 1.47 1.35L5.41 20z\"/>\n",
              "  </svg>\n",
              "      </button>\n",
              "      \n",
              "  <style>\n",
              "    .colab-df-container {\n",
              "      display:flex;\n",
              "      flex-wrap:wrap;\n",
              "      gap: 12px;\n",
              "    }\n",
              "\n",
              "    .colab-df-convert {\n",
              "      background-color: #E8F0FE;\n",
              "      border: none;\n",
              "      border-radius: 50%;\n",
              "      cursor: pointer;\n",
              "      display: none;\n",
              "      fill: #1967D2;\n",
              "      height: 32px;\n",
              "      padding: 0 0 0 0;\n",
              "      width: 32px;\n",
              "    }\n",
              "\n",
              "    .colab-df-convert:hover {\n",
              "      background-color: #E2EBFA;\n",
              "      box-shadow: 0px 1px 2px rgba(60, 64, 67, 0.3), 0px 1px 3px 1px rgba(60, 64, 67, 0.15);\n",
              "      fill: #174EA6;\n",
              "    }\n",
              "\n",
              "    [theme=dark] .colab-df-convert {\n",
              "      background-color: #3B4455;\n",
              "      fill: #D2E3FC;\n",
              "    }\n",
              "\n",
              "    [theme=dark] .colab-df-convert:hover {\n",
              "      background-color: #434B5C;\n",
              "      box-shadow: 0px 1px 3px 1px rgba(0, 0, 0, 0.15);\n",
              "      filter: drop-shadow(0px 1px 2px rgba(0, 0, 0, 0.3));\n",
              "      fill: #FFFFFF;\n",
              "    }\n",
              "  </style>\n",
              "\n",
              "      <script>\n",
              "        const buttonEl =\n",
              "          document.querySelector('#df-449b0eee-2550-4250-8997-6ea572e6eeda button.colab-df-convert');\n",
              "        buttonEl.style.display =\n",
              "          google.colab.kernel.accessAllowed ? 'block' : 'none';\n",
              "\n",
              "        async function convertToInteractive(key) {\n",
              "          const element = document.querySelector('#df-449b0eee-2550-4250-8997-6ea572e6eeda');\n",
              "          const dataTable =\n",
              "            await google.colab.kernel.invokeFunction('convertToInteractive',\n",
              "                                                     [key], {});\n",
              "          if (!dataTable) return;\n",
              "\n",
              "          const docLinkHtml = 'Like what you see? Visit the ' +\n",
              "            '<a target=\"_blank\" href=https://colab.research.google.com/notebooks/data_table.ipynb>data table notebook</a>'\n",
              "            + ' to learn more about interactive tables.';\n",
              "          element.innerHTML = '';\n",
              "          dataTable['output_type'] = 'display_data';\n",
              "          await google.colab.output.renderOutput(dataTable, element);\n",
              "          const docLink = document.createElement('div');\n",
              "          docLink.innerHTML = docLinkHtml;\n",
              "          element.appendChild(docLink);\n",
              "        }\n",
              "      </script>\n",
              "    </div>\n",
              "  </div>\n",
              "  "
            ]
          },
          "metadata": {},
          "execution_count": 44
        }
      ]
    },
    {
      "cell_type": "markdown",
      "source": [
        "## Exploratory Data Analysis"
      ],
      "metadata": {
        "id": "7qAHClmmAILn"
      }
    },
    {
      "cell_type": "markdown",
      "source": [
        "### Checking for missing values"
      ],
      "metadata": {
        "id": "e2c86jBXAQgm"
      }
    },
    {
      "cell_type": "code",
      "source": [
        "print(bosses.isnull().sum())"
      ],
      "metadata": {
        "colab": {
          "base_uri": "https://localhost:8080/"
        },
        "id": "pFgWYvAEUxDC",
        "outputId": "5c1570ec-2956-435d-b52d-2bd976cecaef"
      },
      "execution_count": null,
      "outputs": [
        {
          "output_type": "stream",
          "name": "stdout",
          "text": [
            "id              0\n",
            "name            0\n",
            "image           6\n",
            "region          0\n",
            "description     1\n",
            "location        0\n",
            "drops           0\n",
            "healthPoints    1\n",
            "dtype: int64\n"
          ]
        }
      ]
    },
    {
      "cell_type": "markdown",
      "source": [
        "There are missing values in description, image and healthPoints. We do not really care about missing information in image and description column as it does not give us any analytical data. So we shall ignore those. We will however have to take care of the missing values in the healthPoints column, which is done further down."
      ],
      "metadata": {
        "id": "9uS9-KK8Cceq"
      }
    },
    {
      "cell_type": "markdown",
      "source": [
        "### Summary"
      ],
      "metadata": {
        "id": "0HdFV3EvCzhx"
      }
    },
    {
      "cell_type": "code",
      "source": [
        "# Summary statistics\n",
        "print(bosses.describe())"
      ],
      "metadata": {
        "colab": {
          "base_uri": "https://localhost:8080/"
        },
        "id": "wnWd8uqGVByD",
        "outputId": "bab3547b-168a-44ab-e621-82d6db50ec9f"
      },
      "execution_count": null,
      "outputs": [
        {
          "output_type": "stream",
          "name": "stdout",
          "text": [
            "                                   id             name  \\\n",
            "count                             106              106   \n",
            "unique                            106              104   \n",
            "top     17f695abef9l0i1ujzrup5y0z7rw6  Godskin Apostle   \n",
            "freq                                1                2   \n",
            "\n",
            "                                                    image         region  \\\n",
            "count                                                 100            106   \n",
            "unique                                                 96             11   \n",
            "top     https://eldenring.fanapis.com/images/bosses/17...  Altus Plateau   \n",
            "freq                                                    2             24   \n",
            "\n",
            "                                              description    location  \\\n",
            "count                                                 105         106   \n",
            "unique                                                102          84   \n",
            "top     The apostles, one said to serve Destined Death...  Mt. Gelmir   \n",
            "freq                                                    2           6   \n",
            "\n",
            "          drops healthPoints  \n",
            "count       106          105  \n",
            "unique      104           60  \n",
            "top     ['N/A']          ???  \n",
            "freq          2           30  \n"
          ]
        }
      ]
    },
    {
      "cell_type": "code",
      "source": [
        "# Displaying the regions in the game\n",
        "bosses['region'].unique()"
      ],
      "metadata": {
        "colab": {
          "base_uri": "https://localhost:8080/"
        },
        "id": "8GX7hdEgJvtV",
        "outputId": "9359b786-0cb3-4ad0-c7f8-ae4a59b2ffdf"
      },
      "execution_count": null,
      "outputs": [
        {
          "output_type": "execute_result",
          "data": {
            "text/plain": [
              "array(['Mount Gelmir', 'Liurnia of the Lakes', 'Altus Plateau',\n",
              "       'Limgrave', 'Weeping Peninsula', 'Caelid', 'Consecrated Snowfield',\n",
              "       'Dragonbarrow', 'Mountaintops of the Giants',\n",
              "       'Mountaintop of the Giants', 'Liunia of the Lakes'], dtype=object)"
            ]
          },
          "metadata": {},
          "execution_count": 47
        }
      ]
    },
    {
      "cell_type": "code",
      "source": [
        "# Get the data type of each column\n",
        "column_data_types = bosses.dtypes\n",
        "\n",
        "# Display the data types\n",
        "print(column_data_types)"
      ],
      "metadata": {
        "colab": {
          "base_uri": "https://localhost:8080/"
        },
        "id": "3pW-3_RqQQTd",
        "outputId": "0e4c30a8-553f-48a7-fe7b-fe766bac1bbb"
      },
      "execution_count": null,
      "outputs": [
        {
          "output_type": "stream",
          "name": "stdout",
          "text": [
            "id              object\n",
            "name            object\n",
            "image           object\n",
            "region          object\n",
            "description     object\n",
            "location        object\n",
            "drops           object\n",
            "healthPoints    object\n",
            "dtype: object\n"
          ]
        }
      ]
    },
    {
      "cell_type": "markdown",
      "source": [
        "### Number of bosses in each region"
      ],
      "metadata": {
        "id": "OSDvVsPLC7lC"
      }
    },
    {
      "cell_type": "code",
      "source": [
        "# Getting a count of bosses in each region\n",
        "bosses_location = bosses.groupby('region').count()['name']\n",
        "bosses_location"
      ],
      "metadata": {
        "colab": {
          "base_uri": "https://localhost:8080/"
        },
        "id": "6R9gpj8RKG5k",
        "outputId": "453d73de-9e8a-45c8-d16a-7fa54afbdd64"
      },
      "execution_count": null,
      "outputs": [
        {
          "output_type": "execute_result",
          "data": {
            "text/plain": [
              "region\n",
              "Altus Plateau                 24\n",
              "Caelid                        12\n",
              "Consecrated Snowfield          3\n",
              "Dragonbarrow                   3\n",
              "Limgrave                      23\n",
              "Liunia of the Lakes            1\n",
              "Liurnia of the Lakes          15\n",
              "Mount Gelmir                  11\n",
              "Mountaintop of the Giants      1\n",
              "Mountaintops of the Giants     7\n",
              "Weeping Peninsula              6\n",
              "Name: name, dtype: int64"
            ]
          },
          "metadata": {},
          "execution_count": 49
        }
      ]
    },
    {
      "cell_type": "code",
      "source": [
        "# Plotting a graph for number of bosses in each region\n",
        "plt.bar(bosses_location.index, bosses_location.values)\n",
        "plt.xlabel('Location')\n",
        "plt.ylabel('Number of Bosses')\n",
        "plt.title('Bosses per Region')\n",
        "plt.xticks(rotation=90)\n",
        "plt.show()"
      ],
      "metadata": {
        "colab": {
          "base_uri": "https://localhost:8080/",
          "height": 646
        },
        "id": "1wx3PkToLu2-",
        "outputId": "91d604cc-cb8e-4363-9e32-80829eb2f5a6"
      },
      "execution_count": null,
      "outputs": [
        {
          "output_type": "display_data",
          "data": {
            "text/plain": [
              "<Figure size 640x480 with 1 Axes>"
            ],
            "image/png": "[encoded data removed]"
          },
          "metadata": {}
        }
      ]
    },
    {
      "cell_type": "markdown",
      "source": [
        "Immedietely we see some discrepencies. Some locations are repeated? Well it's not that they are repeated, some locations have spelling mistakes in the dataset. Let us correct them and put them in their proper place. We can do this by looking at the correct spelling of these locations from the Elden Ring fextralife wiki page:\n",
        "\n",
        "https://drive.google.com/file/d/17AysKnUwMcg50jS54IzdCFMGdr9AnH4F/view?usp=drive_link\n",
        "\n",
        "https://drive.google.com/file/d/1j3rMQyhSZcATz1ToNsuujqe5MM5FfiQA/view?usp=drive_link"
      ],
      "metadata": {
        "id": "wfJ4r4cgXTY1"
      }
    },
    {
      "cell_type": "code",
      "source": [
        "# Correcting the names in the region column\n",
        "bosses.loc[bosses['region'] == 'Liunia of the Lakes', 'region'] = 'Liurnia of the Lakes'\n",
        "bosses.loc[bosses['region'] == 'Mountaintop of the Giants', 'region'] = 'Mountaintops of the Giants'\n",
        "\n",
        "# Plotting the graph for number of bosses per region again\n",
        "bosses_location = bosses.groupby('region').count()['name']\n",
        "plt.bar(bosses_location.index, bosses_location.values)\n",
        "plt.xlabel('Location')\n",
        "plt.ylabel('Number of Bosses')\n",
        "plt.title('Bosses per Region')\n",
        "plt.xticks(rotation=90)\n",
        "plt.show()"
      ],
      "metadata": {
        "colab": {
          "base_uri": "https://localhost:8080/",
          "height": 235
        },
        "id": "bHjXvnecV0jy",
        "outputId": "ad1d820d-52c7-4935-b8ad-48b92be93435"
      },
      "execution_count": 1,
      "outputs": [
        {
          "output_type": "error",
          "ename": "NameError",
          "evalue": "ignored",
          "traceback": [
            "\u001b[0;31m---------------------------------------------------------------------------\u001b[0m",
            "\u001b[0;31mNameError\u001b[0m                                 Traceback (most recent call last)",
            "\u001b[0;32m<ipython-input-1-84b15aedb380>\u001b[0m in \u001b[0;36m<cell line: 2>\u001b[0;34m()\u001b[0m\n\u001b[1;32m      1\u001b[0m \u001b[0;31m# Correcting the names in the region column\u001b[0m\u001b[0;34m\u001b[0m\u001b[0;34m\u001b[0m\u001b[0m\n\u001b[0;32m----> 2\u001b[0;31m \u001b[0mbosses\u001b[0m\u001b[0;34m.\u001b[0m\u001b[0mloc\u001b[0m\u001b[0;34m[\u001b[0m\u001b[0mbosses\u001b[0m\u001b[0;34m[\u001b[0m\u001b[0;34m'region'\u001b[0m\u001b[0;34m]\u001b[0m \u001b[0;34m==\u001b[0m \u001b[0;34m'Liunia of the Lakes'\u001b[0m\u001b[0;34m,\u001b[0m \u001b[0;34m'region'\u001b[0m\u001b[0;34m]\u001b[0m \u001b[0;34m=\u001b[0m \u001b[0;34m'Liurnia of the Lakes'\u001b[0m\u001b[0;34m\u001b[0m\u001b[0;34m\u001b[0m\u001b[0m\n\u001b[0m\u001b[1;32m      3\u001b[0m \u001b[0mbosses\u001b[0m\u001b[0;34m.\u001b[0m\u001b[0mloc\u001b[0m\u001b[0;34m[\u001b[0m\u001b[0mbosses\u001b[0m\u001b[0;34m[\u001b[0m\u001b[0;34m'region'\u001b[0m\u001b[0;34m]\u001b[0m \u001b[0;34m==\u001b[0m \u001b[0;34m'Mountaintop of the Giants'\u001b[0m\u001b[0;34m,\u001b[0m \u001b[0;34m'region'\u001b[0m\u001b[0;34m]\u001b[0m \u001b[0;34m=\u001b[0m \u001b[0;34m'Mountaintops of the Giants'\u001b[0m\u001b[0;34m\u001b[0m\u001b[0;34m\u001b[0m\u001b[0m\n\u001b[1;32m      4\u001b[0m \u001b[0;34m\u001b[0m\u001b[0m\n\u001b[1;32m      5\u001b[0m \u001b[0;31m# Plotting the graph for number of bosses per region again\u001b[0m\u001b[0;34m\u001b[0m\u001b[0;34m\u001b[0m\u001b[0m\n",
            "\u001b[0;31mNameError\u001b[0m: name 'bosses' is not defined"
          ]
        }
      ]
    },
    {
      "cell_type": "markdown",
      "source": [
        "### Average health of bosses in each region"
      ],
      "metadata": {
        "id": "wqAlUWszDwSo"
      }
    },
    {
      "cell_type": "markdown",
      "source": [
        "#### Data Preprocessing for getting average health of bosses"
      ],
      "metadata": {
        "id": "pNtRg11XAEJs"
      }
    },
    {
      "cell_type": "code",
      "source": [
        "# Convert \"???\" to missing in the \"healthPoints\" column\n",
        "bosses['healthPoints'] = bosses.healthPoints.replace(r'\\?\\?\\?', np.NaN, regex=True)\n",
        "\n",
        "# Remove all non-numeric characters\n",
        "bosses['healthPoints'] = bosses['healthPoints'].apply(lambda x: re.sub('[^0-9]', '', str(x)))\n",
        "bosses['healthPoints'] = pd.to_numeric(bosses['healthPoints'])\n",
        "\n",
        "# Print the updated DataFrame\n",
        "# pd.set_option('display.max_rows', None)\n",
        "print(bosses['healthPoints'])\n",
        "# pd.reset_option('max_rows')"
      ],
      "metadata": {
        "colab": {
          "base_uri": "https://localhost:8080/"
        },
        "id": "VyOaUwCOVZA4",
        "outputId": "36ac7d1d-95a3-4cbd-941b-0f626ba2e9c1"
      },
      "execution_count": null,
      "outputs": [
        {
          "output_type": "stream",
          "name": "stdout",
          "text": [
            "0          NaN\n",
            "1          NaN\n",
            "2          NaN\n",
            "3          NaN\n",
            "4       2200.0\n",
            "        ...   \n",
            "101     2750.0\n",
            "102    17428.0\n",
            "103     9120.0\n",
            "104        NaN\n",
            "105     1954.0\n",
            "Name: healthPoints, Length: 106, dtype: float64\n"
          ]
        }
      ]
    },
    {
      "cell_type": "code",
      "source": [
        "# Group the DataFrame by region and calculate the average health\n",
        "average_health_df = bosses.groupby('region')['healthPoints'].mean()\n",
        "average_health_df"
      ],
      "metadata": {
        "colab": {
          "base_uri": "https://localhost:8080/"
        },
        "id": "wZkHyAv6__ia",
        "outputId": "eb2f34ab-73a5-4b6b-ba8f-bf846f7ea27e"
      },
      "execution_count": null,
      "outputs": [
        {
          "output_type": "execute_result",
          "data": {
            "text/plain": [
              "region\n",
              "Altus Plateau                  10651.000000\n",
              "Caelid                         12234.000000\n",
              "Consecrated Snowfield          17901.333333\n",
              "Dragonbarrow                    6820.000000\n",
              "Limgrave                        7865.388889\n",
              "Liurnia of the Lakes            5061.000000\n",
              "Mount Gelmir                  133766.125000\n",
              "Mountaintops of the Giants     31488.714286\n",
              "Weeping Peninsula               6224.000000\n",
              "Name: healthPoints, dtype: float64"
            ]
          },
          "metadata": {},
          "execution_count": 53
        }
      ]
    },
    {
      "cell_type": "code",
      "source": [
        "# Plot the graph for average health of bosses in each region\n",
        "# Plotting the bar graph\n",
        "plt.bar(average_health_df.index, average_health_df.values)\n",
        "\n",
        "# Adding labels and title\n",
        "plt.xlabel('Region')\n",
        "plt.ylabel('Average Health')\n",
        "plt.title('Average Boss Health per Region')\n",
        "\n",
        "# Rotating the x-axis labels if needed\n",
        "plt.xticks(rotation=90)\n",
        "\n",
        "# Display the graph\n",
        "plt.show()"
      ],
      "metadata": {
        "colab": {
          "base_uri": "https://localhost:8080/",
          "height": 646
        },
        "id": "jekGNsAvD40i",
        "outputId": "d0fc9bbc-116d-48b2-daa5-5fe05bb10a12"
      },
      "execution_count": null,
      "outputs": [
        {
          "output_type": "display_data",
          "data": {
            "text/plain": [
              "<Figure size 640x480 with 1 Axes>"
            ],
            "image/png": "[encoded data removed]"
          },
          "metadata": {}
        }
      ]
    },
    {
      "cell_type": "markdown",
      "source": [
        "Well that looks a little weird. One region has a very high average boss health. Maybe there is an error in the dataset. We shall take a look at which boss has the max health in Mt. Gelmir and cross check with Elden Ring's fextralife wiki to see if our data is correct."
      ],
      "metadata": {
        "id": "cciymXInIIBv"
      }
    },
    {
      "cell_type": "code",
      "source": [
        "# Filter the DataFrame for the region of Mount Gelmir\n",
        "mount_gelmir_df = bosses[bosses['region'] == 'Mount Gelmir']\n",
        "\n",
        "# Find the boss with the highest health in Mount Gelmir\n",
        "boss_with_highest_health = mount_gelmir_df.loc[mount_gelmir_df['healthPoints'].idxmax()]\n",
        "\n",
        "# Create a new DataFrame with the boss information\n",
        "highest_health_boss_df = pd.DataFrame({\n",
        "    'Name': [boss_with_highest_health['name']],\n",
        "    'Region': [boss_with_highest_health['region']],\n",
        "    'HealthPoints': [boss_with_highest_health['healthPoints']]\n",
        "})\n",
        "\n",
        "# Display the DataFrame\n",
        "print(highest_health_boss_df)"
      ],
      "metadata": {
        "colab": {
          "base_uri": "https://localhost:8080/"
        },
        "id": "FwGhEvoBHUr2",
        "outputId": "823642c8-8285-4fa4-c16e-81eeb916528e"
      },
      "execution_count": null,
      "outputs": [
        {
          "output_type": "stream",
          "name": "stdout",
          "text": [
            "                        Name        Region  HealthPoints\n",
            "0  Rykard, Lord Of Blasphemy  Mount Gelmir     1000000.0\n"
          ]
        }
      ]
    },
    {
      "cell_type": "markdown",
      "source": [
        "Let us check the Elden Ring fextralife wiki for Rykard's details."
      ],
      "metadata": {
        "id": "QXinjGrqJuQw"
      }
    },
    {
      "cell_type": "markdown",
      "source": [
        "https://drive.google.com/file/d/1J7yZfZc0lS8yDaS1TXclerwXfCdN2Gjz/view?usp=drive_link"
      ],
      "metadata": {
        "id": "zDzxms5IKDNp"
      }
    },
    {
      "cell_type": "markdown",
      "source": [
        "As explained by the wiki, Rykard is a 2 phase boss fight. Each phase has it's own pool of health points, exclusive of each other. Therefore, the total health of the boss would be a sum of healthpoints of both phases. Let us see, what the healpoints of Rykard's two phases are"
      ],
      "metadata": {
        "id": "S5IvCWyULZuU"
      }
    },
    {
      "cell_type": "markdown",
      "source": [
        "https://drive.google.com/file/d/1A4qvlBfL0nyHlMPSIRRX3zMJWtk94VGG/view?usp=drive_link"
      ],
      "metadata": {
        "id": "YocaqLLRMXTT"
      }
    },
    {
      "cell_type": "markdown",
      "source": [
        "Phase 1: Serpent has 30,493 healthpoints\n",
        "Phase 2: Rykard true form has 59,174 healthpoints\n",
        "\n",
        "Total health = 30,493 + 59,174 = 89,667.\n",
        "\n",
        "This number is not the same as the number in our dataset, which was 100,000 healthpoints, but it is pretty close. The reasoning could be that the healthpoints were changed in a balance patch after the dataset was recorded.\n",
        "\n",
        "While I could not find any solid data to back my theory, we can use a few reddit threads to support our explanation. One such thread being:\n",
        "\n",
        "https://drive.google.com/file/d/1_ShAMwU7kwszUgZ_LSzz0oM61sfEdELE/view?usp=drive_link"
      ],
      "metadata": {
        "id": "UYprHEa2Mb3f"
      }
    },
    {
      "cell_type": "markdown",
      "source": [
        "We can infer from the above, that Rykard was indeed rather strong at release and was later nerfed. This supports our theory that 100,000 could be the right value and hence we do not need to make any changes to the data."
      ],
      "metadata": {
        "id": "-CBLiz4aOFSv"
      }
    },
    {
      "cell_type": "markdown",
      "source": [
        "### Boss with highest healthpoints\n",
        "Now that we have seen what a beast Rykard is, let us see who has the highest amount of healthpoints in the entire game"
      ],
      "metadata": {
        "id": "vdWopzdSOewA"
      }
    },
    {
      "cell_type": "code",
      "source": [
        "# Find the boss with the highest health points\n",
        "boss_with_highest_health = bosses.loc[bosses['healthPoints'].idxmax()]\n",
        "\n",
        "# Create a new DataFrame with the boss information\n",
        "highest_health_boss_df = pd.DataFrame({\n",
        "    'Name': [boss_with_highest_health['name']],\n",
        "    'Region': [boss_with_highest_health['region']],\n",
        "    'HealthPoints': [boss_with_highest_health['healthPoints']]\n",
        "})\n",
        "\n",
        "# Display the DataFrame\n",
        "print(highest_health_boss_df)"
      ],
      "metadata": {
        "colab": {
          "base_uri": "https://localhost:8080/"
        },
        "id": "CsFfJ51kJtqu",
        "outputId": "5809210c-72d1-4c9d-8f2c-1ebfbcf3ad94"
      },
      "execution_count": null,
      "outputs": [
        {
          "output_type": "stream",
          "name": "stdout",
          "text": [
            "                        Name        Region  HealthPoints\n",
            "0  Rykard, Lord Of Blasphemy  Mount Gelmir     1000000.0\n"
          ]
        }
      ]
    },
    {
      "cell_type": "markdown",
      "source": [
        "Look who it issssssss! He shall devour the very Goddsssssssssss haha!\n",
        "\n",
        "Jokes aside, the reason for this abnormally high health is because he is an optional \"gimmick\" boss. Gimmick bosses in FromSoftware's Souls series (Elden Ring included, as it belongs in the same genre and borrows heavily from their Dark Souls series.) are usually bosses with an abnormally high amount of health. This is balanced with a \"gameplay\" gimmick, such as a special weapon or weakpoint that does insane damage or some other method. Such bosses usually need the player to discover the gimmick and beat the boss, or do it the harder way by wittling down their health little by little.\n",
        "\n",
        "In Rykard's case, we have a special weapon that can found at the entrance of the boss room to make the fight a lot easier, as it does a very high damage to Rykard. This is explained by the wiki (second point):\n",
        "\n",
        "https://drive.google.com/file/d/1etPtdss7pJjr7vTBLgwp2esUTyz578az/view?usp=drive_link"
      ],
      "metadata": {
        "id": "TGUbSjEdO4xQ"
      }
    },
    {
      "cell_type": "markdown",
      "source": [
        "### Boss with second highest healthpoints."
      ],
      "metadata": {
        "id": "IB9gJXh2Rfsn"
      }
    },
    {
      "cell_type": "code",
      "source": [
        "# Sort the DataFrame by healthPoints in descending order\n",
        "sorted_df = bosses.sort_values('healthPoints', ascending=False)\n",
        "\n",
        "# Get the boss with the second-highest health points\n",
        "second_highest_health_boss = sorted_df.iloc[1]\n",
        "\n",
        "# Create a new DataFrame with the boss information\n",
        "second_highest_health_boss_df = pd.DataFrame({\n",
        "    'Name': [second_highest_health_boss['name']],\n",
        "    'Region': [second_highest_health_boss['region']],\n",
        "    'HealthPoints': [second_highest_health_boss['healthPoints']]\n",
        "})\n",
        "\n",
        "# Display the DataFrame\n",
        "print(second_highest_health_boss_df)"
      ],
      "metadata": {
        "colab": {
          "base_uri": "https://localhost:8080/"
        },
        "id": "LMvKrK4aReD3",
        "outputId": "cf8b48ca-a90b-4ec7-bf16-0ff9b120a7b4"
      },
      "execution_count": null,
      "outputs": [
        {
          "output_type": "stream",
          "name": "stdout",
          "text": [
            "         Name                      Region  HealthPoints\n",
            "0  Fire Giant  Mountaintops of the Giants      126720.0\n"
          ]
        }
      ]
    },
    {
      "cell_type": "markdown",
      "source": [
        "Although considered to not be the most challenging bosses, it is definitely one of the harder bosses. The Fire Giant is also not optional, make it one of the biggest barriers in the story progression for most players. This is supported by the comment thread on the wiki page for this boss:\n",
        "\n",
        "https://drive.google.com/file/d/1zLWv5XACU5H8o-Zu0dDhfelw4eBRJL0H/view?usp=drive_link"
      ],
      "metadata": {
        "id": "5ml7r8ZWTcE8"
      }
    },
    {
      "cell_type": "markdown",
      "source": [
        "### Toughest Boss in the game (optional and subjective)"
      ],
      "metadata": {
        "id": "losQswhpmu7n"
      }
    },
    {
      "cell_type": "code",
      "source": [
        "# Filter the DataFrame for bosses with names containing \"malenia\"\n",
        "filtered_df_malenia = bosses[bosses['name'].str.contains('malenia', case=False)]\n",
        "\n",
        "# Create a new DataFrame with the relevant information\n",
        "filtered_df_malenia = filtered_df_malenia[['healthPoints', 'region', 'name']]\n",
        "\n",
        "# Display the DataFrame\n",
        "print(filtered_df_malenia)"
      ],
      "metadata": {
        "colab": {
          "base_uri": "https://localhost:8080/"
        },
        "id": "ij--idmiohs6",
        "outputId": "6d7d7409-6805-45b3-e8c5-f1990c306cb5"
      },
      "execution_count": null,
      "outputs": [
        {
          "output_type": "stream",
          "name": "stdout",
          "text": [
            "    healthPoints                 region                        name\n",
            "71       26128.0  Consecrated Snowfield  Malenia, Blade Of Miquella\n"
          ]
        }
      ]
    },
    {
      "cell_type": "markdown",
      "source": [
        "## Conclusions\n",
        "1. The dataset analysis revealed missing data in three columns: image, description, and healthpoints. Among these, healthpoints was particularly crucial as it contained valuable analytical information.\n",
        "\n",
        "2. Upon reviewing the dataset summary, we observed that the top value in the healthpoints column was marked as '???', indicating non-numeric values. It is essential to address this issue as we desire only numeric values in the healthpoints column.\n",
        "\n",
        "3. The examination of column data types revealed that healthpoints was classified as an object type. To facilitate further statistical analysis of boss healthpoints, it is necessary to convert it to numeric values.\n",
        "\n",
        "4. The evaluation of the number of bosses in each region exposed some spelling mistakes, resulting in duplicated regions. We corrected these errors using a quick Google search and re-displayed the graph, obtaining a more accurate representation of boss frequency in each region.\n",
        "\n",
        "5. Calculating the average health of bosses in each region provided insights into the game's most challenging regions. Notably, Mt. Gelmir and Mountaintops of the Giants and Consecrated Snowfield stood out as regions with particularly high average boss health.\n",
        "\n",
        "6. The unusually high average boss health in Mt. Gelmir prompted further investigation. We discovered that Rykard, a gimmick boss residing in Mt. Gelmir, contributed to the elevated average health.\n",
        "\n",
        "7. Identifying the boss with the second-highest health, Fire Giant, confirmed its reputation for being a challenging mandatory boss. The wiki comment thread on the Fire Giant supported this claim. This suggests a correlation between boss healthpoints and the difficulty level of a region.\n",
        "\n",
        "8. In line with this correlation, the presence of the boss Malenia in the Consecrated Snowfield, which boasted the third-highest average boss health, further reinforced the notion that the region is challenging.\n",
        "\n",
        "9. While the relationship between boss healthpoints and the difficulty of an area may not be strictly linear, the average healthpoints of bosses in a region can serve as a reliable indicator of its difficulty level.\n",
        "\n",
        "10. Elden Ring offers an enjoyable experience due to its intricate boss designs, mechanics, and a \"fair but unforgiving\" challenge aspect of the game.\n",
        "\n"
      ],
      "metadata": {
        "id": "fIwYYksXPLjG"
      }
    }
  ]
}